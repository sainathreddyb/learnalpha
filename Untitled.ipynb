{
 "cells": [
  {
   "cell_type": "code",
   "execution_count": 1,
   "metadata": {},
   "outputs": [
    {
     "name": "stderr",
     "output_type": "stream",
     "text": [
      "/work/anaconda3/lib/python3.6/site-packages/h5py/__init__.py:36: FutureWarning: Conversion of the second argument of issubdtype from `float` to `np.floating` is deprecated. In future, it will be treated as `np.float64 == np.dtype(float).type`.\n",
      "  from ._conv import register_converters as _register_converters\n",
      "Using TensorFlow backend.\n"
     ]
    }
   ],
   "source": [
    "from flask import Flask,jsonify,request, render_template\n",
    "import keras\n",
    "import numpy as np\n",
    "import os\n",
    "from keras.models import Sequential\n",
    "from keras.layers import Dense, Dropout, Flatten,Activation, Conv2D, MaxPooling2D,BatchNormalization,GlobalAveragePooling2D"
   ]
  },
  {
   "cell_type": "code",
   "execution_count": 2,
   "metadata": {
    "collapsed": true
   },
   "outputs": [],
   "source": [
    "def mymodel():\n",
    "    model=Sequential()\n",
    "    model.add(keras.applications.mobilenet.MobileNet(input_shape=(224,224,3),alpha=1.0,depth_multiplier=1, dropout=1e-3,\n",
    "                                include_top=False, weights='imagenet',pooling=\"avg\"))\n",
    "    model.add(Dense(2048))\n",
    "    model.add(Activation('relu'))\n",
    "    model.add(Dense(120))\n",
    "    model.add(Activation('softmax'))\n",
    "    model.load_weights(\"mobile_net.h5\")\n",
    "    return model"
   ]
  },
  {
   "cell_type": "code",
   "execution_count": 3,
   "metadata": {
    "collapsed": true
   },
   "outputs": [],
   "source": [
    "model=mymodel()"
   ]
  },
  {
   "cell_type": "code",
   "execution_count": 4,
   "metadata": {
    "collapsed": true
   },
   "outputs": [],
   "source": [
    "from keras.preprocessing import image\n",
    "\n",
    "def read_img(img_path):\n",
    "    img = image.load_img(img_path,target_size=(224,224,3))\n",
    "    arr=image.img_to_array(img)\n",
    "    return arr/255"
   ]
  },
  {
   "cell_type": "code",
   "execution_count": null,
   "metadata": {
    "collapsed": true
   },
   "outputs": [],
   "source": [
    "from flask import Flask\n",
    "app = Flask(__name__)\n",
    "\n",
    "@app.route('/predict', methods=['GET','POST'])\n",
    "def predict():\n",
    "    if request.method == 'POST':\n",
    "        if not 'fileInput' in request.files:\n",
    "            return jsonify({'error': 'no file'}), 400\n",
    "        # Image info\n",
    "    print(request.files)\n",
    "    img_file = request.files.get('fileInput')\n",
    "    img_name = img_file.filename\n",
    "    mimetype = img_file.content_type\n",
    "    # Return an error if not a valid mimetype\n",
    "    #if not mimetype in valid_mimetypes:\n",
    "    #    return jsonify({'error': 'bad-type'})\n",
    "    # Write image to static directory and do the hot dog check\n",
    "    img_file.save(img_name)\n",
    "    \n",
    "    pix=read_img(img_name)\n",
    "    res=np.argmax(model.predict(pix.reshape(1,224,224,3)))\n",
    "    print(res)\n",
    "        # Delete image when done with analysis\n",
    "    os.remove(img_name)\n",
    "    return str(res)\n",
    "\n",
    "@app.route('/')\n",
    "def hello_world():\n",
    "    return render_template(\"test.html\")\n"
   ]
  },
  {
   "cell_type": "code",
   "execution_count": null,
   "metadata": {},
   "outputs": [
    {
     "name": "stderr",
     "output_type": "stream",
     "text": [
      " * Running on http://172.16.2.29:5000/ (Press CTRL+C to quit)\n",
      "172.16.2.117 - - [16/Apr/2018 11:03:38] \"\u001b[37mGET / HTTP/1.1\u001b[0m\" 200 -\n",
      "172.16.2.117 - - [16/Apr/2018 11:03:38] \"\u001b[33mGET /favicon.ico HTTP/1.1\u001b[0m\" 404 -\n"
     ]
    },
    {
     "name": "stdout",
     "output_type": "stream",
     "text": [
      "ImmutableMultiDict([('fileInput', <FileStorage: 'affenpinscher.png' ('image/png')>)])\n"
     ]
    },
    {
     "name": "stderr",
     "output_type": "stream",
     "text": [
      "172.16.2.117 - - [16/Apr/2018 11:03:49] \"\u001b[37mPOST /predict HTTP/1.1\u001b[0m\" 200 -\n"
     ]
    },
    {
     "name": "stdout",
     "output_type": "stream",
     "text": [
      "0\n"
     ]
    }
   ],
   "source": [
    "if __name__ == '__main__':\n",
    "    app.run('172.16.2.29','5000')"
   ]
  },
  {
   "cell_type": "code",
   "execution_count": null,
   "metadata": {
    "collapsed": true
   },
   "outputs": [],
   "source": []
  }
 ],
 "metadata": {
  "kernelspec": {
   "display_name": "Python 3",
   "language": "python",
   "name": "python3"
  },
  "language_info": {
   "codemirror_mode": {
    "name": "ipython",
    "version": 3
   },
   "file_extension": ".py",
   "mimetype": "text/x-python",
   "name": "python",
   "nbconvert_exporter": "python",
   "pygments_lexer": "ipython3",
   "version": "3.6.3"
  }
 },
 "nbformat": 4,
 "nbformat_minor": 2
}
